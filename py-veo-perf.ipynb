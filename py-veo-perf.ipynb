{
 "cells": [
  {
   "cell_type": "markdown",
   "metadata": {},
   "source": [
    "## Performance measurement with py-veo\n",
    "\n",
    "This notebook shows an example of performance measurement of VE kernels with py-veo and py_veosinfo."
   ]
  },
  {
   "cell_type": "code",
   "execution_count": 1,
   "metadata": {},
   "outputs": [],
   "source": [
    "import veosinfo as vi\n",
    "from veo import *\n",
    "import psutil, os, signal"
   ]
  },
  {
   "cell_type": "markdown",
   "metadata": {},
   "source": [
    "Now get Aurora node information:"
   ]
  },
  {
   "cell_type": "code",
   "execution_count": 2,
   "metadata": {},
   "outputs": [
    {
     "name": "stdout",
     "output_type": "stream",
     "text": [
      "{'status': [0, 0], 'cores': [8, 8], 'nodeid': [1, 0], 'total_node_count': 2}\n"
     ]
    }
   ],
   "source": [
    "print vi.node_info()\n"
   ]
  },
  {
   "cell_type": "markdown",
   "metadata": {},
   "source": [
    "### Define build options and VEO kernel source"
   ]
  },
  {
   "cell_type": "code",
   "execution_count": 3,
   "metadata": {},
   "outputs": [],
   "source": [
    "bld = VeBuild()\n",
    "bld.set_build_dir(\"_ve_build\")\n",
    "bld.set_c_src(\"_average\", r\"\"\"\n",
    "#include <stdio.h>\n",
    "\n",
    "double average(double *a, int n)\n",
    "{\n",
    "    int i;\n",
    "    double sum = 0;\n",
    "\n",
    "    for (i = 0; i < n; i++)\n",
    "        sum += a[i];\n",
    "\n",
    "    return sum / (double)n;\n",
    "}\n",
    "\"\"\", flags=\"-O2 -fpic -pthread -report-all -fdiag-vector=2\")"
   ]
  },
  {
   "cell_type": "code",
   "execution_count": 4,
   "metadata": {},
   "outputs": [
    {
     "name": "stdout",
     "output_type": "stream",
     "text": [
      "/opt/nec/ve/bin/ncc -O2 -fpic -pthread -report-all -fdiag-vector=2 -c _average.c -o _average.o\n",
      "ncc: vec( 101): _average.c, line 9: Vectorized loop.\n",
      "ncc: vec( 126): _average.c, line 10: Idiom detected.: Sum\n",
      "\n",
      "---------\n",
      "NEC C/C++ Compiler (2.1.23) for Vector Engine     Tue Mar 12 00:47:02 2019\n",
      "FILE NAME: _average.c\n",
      "\n",
      "FUNCTION NAME: average\n",
      "DIAGNOSTIC LIST\n",
      "\n",
      " LINE              DIAGNOSTIC MESSAGE\n",
      "\n",
      "     9: vec( 101): Vectorized loop.\n",
      "    10: vec( 126): Idiom detected.: Sum\n",
      "\n",
      "\n",
      "NEC C/C++ Compiler (2.1.23) for Vector Engine     Tue Mar 12 00:47:02 2019\n",
      "FILE NAME: _average.c\n",
      "\n",
      "FUNCTION NAME: average\n",
      "FORMAT LIST\n",
      "\n",
      " LINE   LOOP      STATEMENT\n",
      "\n",
      "     4:           double average(double *a, int n)\n",
      "     5:           {\n",
      "     6:               int i;\n",
      "     7:               double sum = 0;\n",
      "     8:           \n",
      "     9: V------>      for (i = 0; i < n; i++)\n",
      "    10: V------           sum += a[i];\n",
      "    11:           \n",
      "    12:               return sum / (double)n;\n",
      "    13:           }\n",
      "\n",
      "\n",
      "---------\n",
      "compile _average -> ok\n",
      "env CFLAGS=\"-O2 -fpic -pthread\" /opt/nec/ve/libexec/mk_veorun_static _ve_build/_average.veorun _ve_build/_average.o\n",
      "\"/tmp/veorunjEKGJ6X.c\", line 3: warning: typedef name has already been declared\n",
      "          (with same type)\n",
      "  typedef unsigned long ulong;\n",
      "                        ^\n",
      "\n",
      "created specific _ve_build/_average.veorun\n",
      "\n"
     ]
    }
   ],
   "source": [
    "veorun_name = bld.build_veorun(flags=\"-O2 -fpic -pthread\", verbose=True)\n",
    "#ve_so_name = bld.build_so(flags=\"-O2 -fpic -shared\", verbose=True)"
   ]
  },
  {
   "cell_type": "markdown",
   "metadata": {},
   "source": [
    "\n",
    "### Create VEO process, context, load VEO kernel as library"
   ]
  },
  {
   "cell_type": "code",
   "execution_count": 5,
   "metadata": {},
   "outputs": [],
   "source": [
    "otids = set([_thr.id for _thr in psutil.Process().threads()])"
   ]
  },
  {
   "cell_type": "code",
   "execution_count": 6,
   "metadata": {},
   "outputs": [],
   "source": [
    "nodeid = 0   # VE node ID\n",
    "#print vi.cpu_info(0)\n",
    "vi.metrics.ve_cpu_info_cache[nodeid] = vi.cpu_info(nodeid)\n",
    "\n",
    "proc = VeoProc(nodeid, veorun_bin=os.getcwd() + \"/\" + veorun_name)\n",
    "#proc = VeoProc(nodeid)"
   ]
  },
  {
   "cell_type": "code",
   "execution_count": 7,
   "metadata": {},
   "outputs": [
    {
     "data": {
      "text/plain": [
       "{238976}"
      ]
     },
     "execution_count": 7,
     "metadata": {},
     "output_type": "execute_result"
    }
   ],
   "source": [
    "ptids = set([_thr.id for _thr in psutil.Process().threads()])\n",
    "ptids - otids"
   ]
  },
  {
   "cell_type": "code",
   "execution_count": 8,
   "metadata": {},
   "outputs": [],
   "source": [
    "ctxt = proc.open_context()"
   ]
  },
  {
   "cell_type": "code",
   "execution_count": 9,
   "metadata": {},
   "outputs": [
    {
     "name": "stdout",
     "output_type": "stream",
     "text": [
      "ctxt TID: 239005\n"
     ]
    }
   ],
   "source": [
    "ctids = set([_thr.id for _thr in psutil.Process().threads()])\n",
    "ctxt_tid = list(ctids - ptids)[0]\n",
    "print \"ctxt TID:\", ctxt_tid"
   ]
  },
  {
   "cell_type": "code",
   "execution_count": null,
   "metadata": {},
   "outputs": [],
   "source": []
  },
  {
   "cell_type": "code",
   "execution_count": 10,
   "metadata": {},
   "outputs": [],
   "source": [
    "#lib = proc.load_library(os.getcwd() + \"/\" + ve_so_name)\n",
    "lib = proc.static_library()\n",
    "lib.average.args_type(\"double *\", \"int\")\n",
    "lib.average.ret_type(\"double\")"
   ]
  },
  {
   "cell_type": "markdown",
   "metadata": {},
   "source": [
    "Create a numpy array filled with random numbers"
   ]
  },
  {
   "cell_type": "code",
   "execution_count": 11,
   "metadata": {},
   "outputs": [
    {
     "name": "stdout",
     "output_type": "stream",
     "text": [
      "VH numpy average = 0.500050986908445\n"
     ]
    }
   ],
   "source": [
    "n = 1000000     # length of random vector: 1M elements\n",
    "a = np.random.rand(n)\n",
    "print(\"VH numpy average = %r\" % np.average(a))"
   ]
  },
  {
   "cell_type": "markdown",
   "metadata": {},
   "source": [
    "### submit async VE function request"
   ]
  },
  {
   "cell_type": "code",
   "execution_count": 12,
   "metadata": {},
   "outputs": [],
   "source": [
    "perf_before = vi.ve_pid_perf(nodeid, ctxt_tid)"
   ]
  },
  {
   "cell_type": "code",
   "execution_count": 13,
   "metadata": {},
   "outputs": [
    {
     "name": "stdout",
     "output_type": "stream",
     "text": [
      "VE kernel average = 0.500050986908445\n"
     ]
    }
   ],
   "source": [
    "req = lib.average(ctxt, OnStack(a), n)\n",
    "\n",
    "avg = req.wait_result()\n",
    "print(\"VE kernel average = %r\" % avg)"
   ]
  },
  {
   "cell_type": "code",
   "execution_count": 14,
   "metadata": {},
   "outputs": [
    {
     "name": "stdout",
     "output_type": "stream",
     "text": [
      "{'L1CACHEMISS': 0.7185894903200316, 'EFFTIME': 1.765597684867689e-05, 'USRTIME': 2.8925714285714284e-05, 'USRSEC': 0.0008074785714285714, 'VTIMERATIO': 98.38749506124061, 'MOPS': 70107.48222046622, 'AVGVL': 255.9508700102354, 'CPUPORTCONF': 0.0, 'MFLOPS': 34580.200513630974, 'ELAPSED': 1.6382958889007568, 'VLDLLCHIT': 100.0, 'VOPRAT': 98.64900249468788}\n"
     ]
    }
   ],
   "source": [
    "perf_after = vi.ve_pid_perf(nodeid, ctxt_tid)\n",
    "metrics = vi.calc_metrics(nodeid, perf_before, perf_after)\n",
    "print metrics"
   ]
  },
  {
   "cell_type": "code",
   "execution_count": 15,
   "metadata": {},
   "outputs": [],
   "source": [
    "del req\n",
    "del lib\n",
    "del proc"
   ]
  },
  {
   "cell_type": "code",
   "execution_count": 16,
   "metadata": {},
   "outputs": [
    {
     "name": "stdout",
     "output_type": "stream",
     "text": [
      "process TID: set([238976])\n",
      "left over TIDs: set([238976, 239005])\n"
     ]
    }
   ],
   "source": [
    "etids = set([_thr.id for _thr in psutil.Process().threads()])\n",
    "print \"process TID:\", ptids - otids\n",
    "print \"left over TIDs:\", etids - otids"
   ]
  },
  {
   "cell_type": "markdown",
   "metadata": {},
   "source": [
    "**NOTE** Cleanup does not work well. No idea, yet, why. Some processes are left over. You should do:\n",
    "`Kernel -> Restart & Clean up` after the next step (which cleans up the bld files)."
   ]
  },
  {
   "cell_type": "markdown",
   "metadata": {},
   "source": [
    "### Cleanup VEO kernel build files"
   ]
  },
  {
   "cell_type": "code",
   "execution_count": 17,
   "metadata": {},
   "outputs": [],
   "source": [
    "bld.clear()\n",
    "bld.realclean()"
   ]
  },
  {
   "cell_type": "code",
   "execution_count": null,
   "metadata": {},
   "outputs": [],
   "source": []
  }
 ],
 "metadata": {
  "kernelspec": {
   "display_name": "Python 2",
   "language": "python",
   "name": "python2"
  },
  "language_info": {
   "codemirror_mode": {
    "name": "ipython",
    "version": 2
   },
   "file_extension": ".py",
   "mimetype": "text/x-python",
   "name": "python",
   "nbconvert_exporter": "python",
   "pygments_lexer": "ipython2",
   "version": "2.7.5"
  }
 },
 "nbformat": 4,
 "nbformat_minor": 2
}
